{
  "nbformat": 4,
  "nbformat_minor": 0,
  "metadata": {
    "colab": {
      "name": "Yudina_2_ 192_ ml4se.ipynb",
      "provenance": [],
      "authorship_tag": "ABX9TyP3L2J/ybqOK6XdPlN39p33",
      "include_colab_link": true
    },
    "kernelspec": {
      "name": "python3",
      "display_name": "Python 3"
    },
    "language_info": {
      "name": "python"
    },
    "accelerator": "GPU"
  },
  "cells": [
    {
      "cell_type": "markdown",
      "metadata": {
        "id": "view-in-github",
        "colab_type": "text"
      },
      "source": [
        "<a href=\"https://colab.research.google.com/github/KateJud/MicroproectABS/blob/main/Yudina_2__192__ml4se.ipynb\" target=\"_parent\"><img src=\"https://colab.research.google.com/assets/colab-badge.svg\" alt=\"Open In Colab\"/></a>"
      ]
    },
    {
      "cell_type": "code",
      "metadata": {
        "id": "n02ZJSd2EN-M"
      },
      "source": [
        ""
      ],
      "execution_count": null,
      "outputs": []
    },
    {
      "cell_type": "markdown",
      "metadata": {
        "id": "lAQUDgDLEhii"
      },
      "source": [
        "Assignment 2\n",
        "Train FFNN, beat baselines.\n",
        "You can use Google Collab, Kaggle kernels or any other devices.\n",
        "Here you can use only numpy, pandas, sklearn and pytorch"
      ]
    },
    {
      "cell_type": "code",
      "metadata": {
        "id": "KhxDNxNsEig_",
        "colab": {
          "base_uri": "https://localhost:8080/"
        },
        "outputId": "44a86c18-318f-4e03-a669-5a8d26445145"
      },
      "source": [
        "import numpy as np\n",
        "import pandas as pd\n",
        "import matplotlib.pyplot as plt\n",
        "from sklearn.model_selection import train_test_split\n",
        "\n",
        "%matplotlib inline\n",
        "\n",
        "import torch\n",
        "import torch.nn as nn\n",
        "import torch.optim as optim\n",
        "\n",
        "from torch.utils.data import DataLoader, TensorDataset\n",
        "from tqdm import tqdm\n",
        "\n",
        "# fix SEED for reproducible experiment\n",
        "SEED = 42\n",
        "np.random.seed(SEED)\n",
        "torch.cuda.manual_seed(SEED)\n",
        "torch.manual_seed(SEED)\n",
        "\n",
        "print(np.__version__, torch.__version__)"
      ],
      "execution_count": 2,
      "outputs": [
        {
          "output_type": "stream",
          "name": "stdout",
          "text": [
            "1.19.5 1.9.0+cu111\n"
          ]
        }
      ]
    },
    {
      "cell_type": "code",
      "metadata": {
        "id": "vnktJLE3Rrq4"
      },
      "source": [
        "# toy dataset from https://github.com/greydanus/mnist1d\n",
        "\n",
        "import requests, pickle\n",
        "\n",
        "url = 'https://github.com/greydanus/mnist1d/raw/master/mnist1d_data.pkl'\n",
        "r = requests.get(url, allow_redirects=True)\n",
        "open('./mnist1d_data.pkl', 'wb').write(r.content)\n",
        "\n",
        "with open('./mnist1d_data.pkl', 'rb') as handle:\n",
        "    data = pickle.load(handle)"
      ],
      "execution_count": 3,
      "outputs": []
    },
    {
      "cell_type": "code",
      "metadata": {
        "id": "0_RAlRIBRx_o",
        "colab": {
          "base_uri": "https://localhost:8080/"
        },
        "outputId": "90c2ddb8-2a71-4fcf-8a53-85bfd4e531bf"
      },
      "source": [
        "X_train, y_train = data['x'], data['y'].reshape(-1,1)\n",
        "X_test, y_test = data['x_test'], data['y_test'].reshape(-1,1)\n",
        "\n",
        "# create validation dataset\n",
        "X_train, X_val, y_train, y_val = train_test_split(X_train, y_train, \n",
        "                                                  test_size=0.1, stratify=y_train, \n",
        "                                                 random_state=SEED)\n",
        "    \n",
        "print('train data shape:{} # classes {}'.format(X_train.shape, len(np.unique(y_train))))\n",
        "print('validation data size:{}'.format(X_val.shape[0]))\n",
        "print('test data size:{}'.format(X_test.shape[0]))"
      ],
      "execution_count": 4,
      "outputs": [
        {
          "output_type": "stream",
          "name": "stdout",
          "text": [
            "train data shape:(3600, 40) # classes 10\n",
            "validation data size:400\n",
            "test data size:1000\n"
          ]
        }
      ]
    },
    {
      "cell_type": "code",
      "metadata": {
        "id": "KmsMMGVkRzfI"
      },
      "source": [
        "# batch size is an important hyperparameter\n",
        "# make sure you have enough memory to contain batch data and the model\n",
        "batch_size = 64\n",
        "\n",
        "train_loader = DataLoader(TensorDataset(\n",
        "    torch.from_numpy(X_train).float(), \n",
        "    torch.from_numpy(y_train)),\n",
        "    batch_size=batch_size, \n",
        "    shuffle=True # it's important to shuffle train dataset every epoch\n",
        "    )\n",
        "\n",
        "val_loader = DataLoader(TensorDataset(\n",
        "    torch.from_numpy(X_val).float(), \n",
        "    torch.from_numpy(y_val)),\n",
        "    batch_size=batch_size, \n",
        "    shuffle=False \n",
        ")\n",
        "\n",
        "\n",
        "test_loader = DataLoader(TensorDataset(\n",
        "    torch.from_numpy(X_test).float(), \n",
        "    torch.from_numpy(y_test)),\n",
        "    batch_size=batch_size, \n",
        "    shuffle=False \n",
        ")"
      ],
      "execution_count": 5,
      "outputs": []
    },
    {
      "cell_type": "markdown",
      "metadata": {
        "id": "kgNRcAXaR64A"
      },
      "source": [
        "###Task 1 (2 points)\n",
        "Implement early stopping"
      ]
    },
    {
      "cell_type": "code",
      "metadata": {
        "id": "dGotF8t1R7xd"
      },
      "source": [
        "def train(model, train_loader, val_loader, n_epochs, criterion, device, checkdir=None, patience=0):\n",
        "    \"\"\"\n",
        "    train_loader: loader of train dataset\n",
        "    val_loader: loader of validation dataset\n",
        "    n_epochs: max epochs to train\n",
        "    device: cpu or gpu\n",
        "    checkdir: folder to save model weights\n",
        "    patience: how many epochs we tolerate the increasing validation loss\n",
        "    \"\"\"\n",
        "    history = []\n",
        "    \n",
        "    # number of batches in an epoch\n",
        "    n_batches = int(np.ceil(len(train_loader.dataset) / batch_size))\n",
        "\n",
        "    prev_val_loss=-1\n",
        "    epoch_escape=0\n",
        "    for epoch in range(n_epochs):\n",
        "\n",
        "        # training mode: affects BatchNorm, Dropout, etc.\n",
        "        model.train()\n",
        "\n",
        "        # make progressbar\n",
        "        batch_iter = tqdm(enumerate(train_loader), total=n_batches, desc='epoch %d' % (epoch + 1), leave=True)\n",
        "\n",
        "        train_loss = 0\n",
        "        for i, (X, y) in batch_iter:\n",
        "\n",
        "            # move data to selected device\n",
        "            X = X.to(device)\n",
        "            y = y.to(device)\n",
        "\n",
        "            # set weight gradient to 0\n",
        "            optimizer.zero_grad()\n",
        "\n",
        "            # make forward pass\n",
        "            prediction = model(X)\n",
        "\n",
        "            # compute loss\n",
        "            loss = criterion(prediction, y.squeeze())\n",
        "\n",
        "            # make backward pass: compute gradient for each weight\n",
        "            loss.backward()\n",
        "            # make optimization step\n",
        "            optimizer.step()\n",
        "\n",
        "            # average train loss\n",
        "            train_loss = train_loss*i/(i+1) + loss.data.cpu().detach().item()/(i+1)\n",
        "\n",
        "            batch_iter.set_postfix(loss='%.4f' % train_loss)\n",
        "\n",
        "        # inference mode: affects BatchNorm, Dropout, etc. \n",
        "        model.eval()\n",
        "        val_loss = []\n",
        "\n",
        "        # we don't update weights on inference: no need for gradient\n",
        "        with torch.no_grad():\n",
        "            for X, y in val_loader:\n",
        "                # move data to selected device\n",
        "                X = X.to(device)\n",
        "                y = y.to(device)\n",
        "\n",
        "                # make prediction\n",
        "                prediction = model(X)\n",
        "                loss = criterion(prediction, y.squeeze())\n",
        "                # move batch loss from device to cpu\n",
        "                loss = loss.data.cpu().detach().item()\n",
        "                val_loss.append( loss )\n",
        "\n",
        "        val_loss = np.mean(val_loss)\n",
        "        \n",
        "        # TODO: early stopping\n",
        "        if(prev_val_loss!=-1 and val_loss>prev_val_loss):\n",
        "          if(epoch_escape<patience):\n",
        "            epoch_escape+=1\n",
        "          else:\n",
        "            print(\"Early stopping\")\n",
        "            break;\n",
        "\n",
        "        print('validation loss=%.4f' % val_loss)\n",
        "        \n",
        "        # save model weights on each epoch\n",
        "        if checkdir:\n",
        "            torch.save(model.state_dict(), checkdir + '/epoch_%d_val_loss_%f' % (epoch, val_loss))\n",
        "\n",
        "        history.append({\n",
        "            'epoch': epoch,\n",
        "            'train_loss': train_loss,\n",
        "            'val_loss': val_loss,\n",
        "        })\n",
        "        prev_val_loss=val_loss\n",
        "\n",
        "    return pd.DataFrame(history)"
      ],
      "execution_count": 21,
      "outputs": []
    },
    {
      "cell_type": "code",
      "metadata": {
        "id": "jBICJy9kSOpo"
      },
      "source": [
        "class FFNN(nn.Module):\n",
        "    \n",
        "    def __init__(self, input_size, output_size, h_size, n_blocks, dropout_p):\n",
        "        \"\"\"\n",
        "        input_size: number of features\n",
        "        output_size: number of classes\n",
        "        h_size: size of hidden layer\n",
        "        n_blocks: number of hidden layers\n",
        "        dropout_p: dropout rate\n",
        "        \"\"\"\n",
        "        super(FFNN, self).__init__()\n",
        "        \n",
        "        self.mlp = [\n",
        "            # normalize input\n",
        "            nn.BatchNorm1d(input_size),\n",
        "            # project data into hidden feature space\n",
        "            nn.Linear(input_size, h_size),\n",
        "            # some activation funtion\n",
        "            nn.PReLU(),\n",
        "            nn.Dropout(dropout_p),\n",
        "        ]\n",
        "        \n",
        "        # \"basic\" blocks\n",
        "        for i in range(n_blocks):\n",
        "            self.mlp.extend([\n",
        "                nn.Linear(h_size,h_size),\n",
        "                nn.BatchNorm1d(h_size),\n",
        "                nn.PReLU(),\n",
        "                nn.Dropout(dropout_p),\n",
        "            ])\n",
        "            \n",
        "        # output layer: classification\n",
        "        self.mlp.append(nn.Linear(h_size, output_size))\n",
        "        self.mlp = nn.Sequential(*self.mlp)\n",
        "        \n",
        "        \n",
        "\n",
        "    def forward(self, x):\n",
        "        x = self.mlp(x)\n",
        "        return x"
      ],
      "execution_count": 22,
      "outputs": []
    },
    {
      "cell_type": "code",
      "metadata": {
        "id": "Kvz8J7dbSSCN"
      },
      "source": [
        "# clean checkpoint directory\n",
        "!rm -rf checkdir\n",
        "!mkdir checkdir"
      ],
      "execution_count": 23,
      "outputs": []
    },
    {
      "cell_type": "code",
      "metadata": {
        "id": "t_PZQH-1SU8B",
        "colab": {
          "base_uri": "https://localhost:8080/"
        },
        "outputId": "5901bbca-8fcb-49c5-b4d8-8f8011749eed"
      },
      "source": [
        "device = torch.device('cuda')\n",
        "# device = torch.device('cpu')\n",
        "checkdir = 'checkdir'\n",
        "\n",
        "# create model\n",
        "model = FFNN(\n",
        "    input_size=X_train.shape[1],\n",
        "    output_size=len(np.unique(y_train)),\n",
        "    h_size=100,\n",
        "    n_blocks=1,\n",
        "    dropout_p=0.1)\n",
        "\n",
        "# move model to device\n",
        "model = model.to(device)\n",
        "\n",
        "# create optimizer.\n",
        "optimizer = optim.Adam(model.parameters())\n",
        "# select loss function\n",
        "criterion = nn.CrossEntropyLoss()\n",
        "\n",
        "# train the model\n",
        "history = train(model, train_loader, val_loader, n_epochs=50, \n",
        "      criterion=criterion, device=device, checkdir=checkdir)"
      ],
      "execution_count": 24,
      "outputs": [
        {
          "output_type": "stream",
          "name": "stderr",
          "text": [
            "epoch 1: 100%|██████████| 57/57 [00:00<00:00, 94.53it/s, loss=1.9677]\n"
          ]
        },
        {
          "output_type": "stream",
          "name": "stdout",
          "text": [
            "validation loss=1.8254\n"
          ]
        },
        {
          "output_type": "stream",
          "name": "stderr",
          "text": [
            "epoch 2: 100%|██████████| 57/57 [00:00<00:00, 92.90it/s, loss=1.6839]\n"
          ]
        },
        {
          "output_type": "stream",
          "name": "stdout",
          "text": [
            "validation loss=1.6669\n"
          ]
        },
        {
          "output_type": "stream",
          "name": "stderr",
          "text": [
            "epoch 3: 100%|██████████| 57/57 [00:00<00:00, 97.55it/s, loss=1.5573] \n"
          ]
        },
        {
          "output_type": "stream",
          "name": "stdout",
          "text": [
            "validation loss=1.5416\n"
          ]
        },
        {
          "output_type": "stream",
          "name": "stderr",
          "text": [
            "epoch 4: 100%|██████████| 57/57 [00:00<00:00, 102.27it/s, loss=1.4509]\n"
          ]
        },
        {
          "output_type": "stream",
          "name": "stdout",
          "text": [
            "validation loss=1.4707\n"
          ]
        },
        {
          "output_type": "stream",
          "name": "stderr",
          "text": [
            "epoch 5: 100%|██████████| 57/57 [00:00<00:00, 97.36it/s, loss=1.3958]\n"
          ]
        },
        {
          "output_type": "stream",
          "name": "stdout",
          "text": [
            "validation loss=1.4359\n"
          ]
        },
        {
          "output_type": "stream",
          "name": "stderr",
          "text": [
            "epoch 6: 100%|██████████| 57/57 [00:00<00:00, 99.72it/s, loss=1.3466] \n"
          ]
        },
        {
          "output_type": "stream",
          "name": "stdout",
          "text": [
            "validation loss=1.3757\n"
          ]
        },
        {
          "output_type": "stream",
          "name": "stderr",
          "text": [
            "epoch 7: 100%|██████████| 57/57 [00:00<00:00, 95.82it/s, loss=1.2675]\n"
          ]
        },
        {
          "output_type": "stream",
          "name": "stdout",
          "text": [
            "validation loss=1.3336\n"
          ]
        },
        {
          "output_type": "stream",
          "name": "stderr",
          "text": [
            "epoch 8: 100%|██████████| 57/57 [00:00<00:00, 96.93it/s, loss=1.2333]\n"
          ]
        },
        {
          "output_type": "stream",
          "name": "stdout",
          "text": [
            "validation loss=1.3023\n"
          ]
        },
        {
          "output_type": "stream",
          "name": "stderr",
          "text": [
            "epoch 9: 100%|██████████| 57/57 [00:00<00:00, 102.32it/s, loss=1.1858]\n"
          ]
        },
        {
          "output_type": "stream",
          "name": "stdout",
          "text": [
            "validation loss=1.2702\n"
          ]
        },
        {
          "output_type": "stream",
          "name": "stderr",
          "text": [
            "epoch 10: 100%|██████████| 57/57 [00:00<00:00, 97.33it/s, loss=1.1443]\n"
          ]
        },
        {
          "output_type": "stream",
          "name": "stdout",
          "text": [
            "validation loss=1.2172\n"
          ]
        },
        {
          "output_type": "stream",
          "name": "stderr",
          "text": [
            "epoch 11: 100%|██████████| 57/57 [00:00<00:00, 98.59it/s, loss=1.1091]\n"
          ]
        },
        {
          "output_type": "stream",
          "name": "stdout",
          "text": [
            "Early stopping\n"
          ]
        }
      ]
    },
    {
      "cell_type": "code",
      "metadata": {
        "id": "C1d3b0kxSX2d",
        "colab": {
          "base_uri": "https://localhost:8080/",
          "height": 267
        },
        "outputId": "33be5a0f-5d21-443c-c588-35b68270e0bd"
      },
      "source": [
        "# plot validation curve\n",
        "history[['train_loss', 'val_loss']].plot();"
      ],
      "execution_count": 25,
      "outputs": [
        {
          "output_type": "display_data",
          "data": {
            "image/png": "[encoded data removed]",
            "text/plain": [
              "<Figure size 432x288 with 1 Axes>"
            ]
          },
          "metadata": {
            "needs_background": "light"
          }
        }
      ]
    },
    {
      "cell_type": "markdown",
      "metadata": {
        "id": "yVzB3lFF0Ktg"
      },
      "source": [
        "###Task 2 (2 points)\n",
        "Make the model severely overfit"
      ]
    },
    {
      "cell_type": "code",
      "metadata": {
        "id": "ZuyMQpf1jFCb"
      },
      "source": [
        "# TODO: create loaders\n",
        "# TODO: create model\n",
        "# TODO: train model\n",
        "\n",
        "# batch size is an important hyperparameter\n",
        "# make sure you have enough memory to contain batch data and the model\n",
        "batch_size = 120\n",
        "\n",
        "train_loader = DataLoader(TensorDataset(\n",
        "    torch.from_numpy(X_train).float(), \n",
        "    torch.from_numpy(y_train)),\n",
        "    batch_size=batch_size, \n",
        "    shuffle=True # it's important to shuffle train dataset every epoch\n",
        "    )\n",
        "\n",
        "val_loader = DataLoader(TensorDataset(\n",
        "    torch.from_numpy(X_val).float(), \n",
        "    torch.from_numpy(y_val)),\n",
        "    batch_size=batch_size, \n",
        "    shuffle=False \n",
        ")\n",
        "\n",
        "\n",
        "test_loader = DataLoader(TensorDataset(\n",
        "    torch.from_numpy(X_test).float(), \n",
        "    torch.from_numpy(y_test)),\n",
        "    batch_size=batch_size, \n",
        "    shuffle=False \n",
        ")"
      ],
      "execution_count": 61,
      "outputs": []
    },
    {
      "cell_type": "code",
      "metadata": {
        "colab": {
          "base_uri": "https://localhost:8080/"
        },
        "id": "KyM267180Jk1",
        "outputId": "114e988c-3e6d-4456-8742-ce08a3576649"
      },
      "source": [
        "history = train(model, train_loader, val_loader, n_epochs=100, \n",
        "      criterion=criterion, device=device, checkdir=checkdir, patience=100)\n",
        "\n",
        "if history['val_loss'].iloc[-1] - history['train_loss'].iloc[-1] > 1.0:\n",
        "    print('success!')"
      ],
      "execution_count": 62,
      "outputs": [
        {
          "output_type": "stream",
          "name": "stderr",
          "text": [
            "epoch 1: 100%|██████████| 30/30 [00:00<00:00, 102.24it/s, loss=0.1329]\n"
          ]
        },
        {
          "output_type": "stream",
          "name": "stdout",
          "text": [
            "validation loss=1.0770\n"
          ]
        },
        {
          "output_type": "stream",
          "name": "stderr",
          "text": [
            "epoch 2: 100%|██████████| 30/30 [00:00<00:00, 100.96it/s, loss=0.1281]\n"
          ]
        },
        {
          "output_type": "stream",
          "name": "stdout",
          "text": [
            "validation loss=1.0897\n"
          ]
        },
        {
          "output_type": "stream",
          "name": "stderr",
          "text": [
            "epoch 3: 100%|██████████| 30/30 [00:00<00:00, 96.16it/s, loss=0.1102]\n"
          ]
        },
        {
          "output_type": "stream",
          "name": "stdout",
          "text": [
            "validation loss=1.1017\n"
          ]
        },
        {
          "output_type": "stream",
          "name": "stderr",
          "text": [
            "epoch 4: 100%|██████████| 30/30 [00:00<00:00, 102.93it/s, loss=0.1211]\n"
          ]
        },
        {
          "output_type": "stream",
          "name": "stdout",
          "text": [
            "validation loss=1.0786\n"
          ]
        },
        {
          "output_type": "stream",
          "name": "stderr",
          "text": [
            "epoch 5: 100%|██████████| 30/30 [00:00<00:00, 103.53it/s, loss=0.1322]\n"
          ]
        },
        {
          "output_type": "stream",
          "name": "stdout",
          "text": [
            "validation loss=1.1032\n"
          ]
        },
        {
          "output_type": "stream",
          "name": "stderr",
          "text": [
            "epoch 6: 100%|██████████| 30/30 [00:00<00:00, 100.61it/s, loss=0.1234]\n"
          ]
        },
        {
          "output_type": "stream",
          "name": "stdout",
          "text": [
            "validation loss=1.1005\n"
          ]
        },
        {
          "output_type": "stream",
          "name": "stderr",
          "text": [
            "epoch 7: 100%|██████████| 30/30 [00:00<00:00, 105.99it/s, loss=0.1155]\n"
          ]
        },
        {
          "output_type": "stream",
          "name": "stdout",
          "text": [
            "validation loss=1.1265\n"
          ]
        },
        {
          "output_type": "stream",
          "name": "stderr",
          "text": [
            "epoch 8: 100%|██████████| 30/30 [00:00<00:00, 99.07it/s, loss=0.1326]\n"
          ]
        },
        {
          "output_type": "stream",
          "name": "stdout",
          "text": [
            "validation loss=1.1063\n"
          ]
        },
        {
          "output_type": "stream",
          "name": "stderr",
          "text": [
            "epoch 9: 100%|██████████| 30/30 [00:00<00:00, 100.70it/s, loss=0.1318]\n"
          ]
        },
        {
          "output_type": "stream",
          "name": "stdout",
          "text": [
            "validation loss=1.0764\n"
          ]
        },
        {
          "output_type": "stream",
          "name": "stderr",
          "text": [
            "epoch 10: 100%|██████████| 30/30 [00:00<00:00, 100.87it/s, loss=0.1350]\n"
          ]
        },
        {
          "output_type": "stream",
          "name": "stdout",
          "text": [
            "validation loss=1.0968\n"
          ]
        },
        {
          "output_type": "stream",
          "name": "stderr",
          "text": [
            "epoch 11: 100%|██████████| 30/30 [00:00<00:00, 100.28it/s, loss=0.1111]\n"
          ]
        },
        {
          "output_type": "stream",
          "name": "stdout",
          "text": [
            "validation loss=1.1003\n"
          ]
        },
        {
          "output_type": "stream",
          "name": "stderr",
          "text": [
            "epoch 12: 100%|██████████| 30/30 [00:00<00:00, 102.64it/s, loss=0.1226]\n"
          ]
        },
        {
          "output_type": "stream",
          "name": "stdout",
          "text": [
            "validation loss=1.0659\n"
          ]
        },
        {
          "output_type": "stream",
          "name": "stderr",
          "text": [
            "epoch 13: 100%|██████████| 30/30 [00:00<00:00, 87.35it/s, loss=0.1359]\n"
          ]
        },
        {
          "output_type": "stream",
          "name": "stdout",
          "text": [
            "validation loss=1.0854\n"
          ]
        },
        {
          "output_type": "stream",
          "name": "stderr",
          "text": [
            "epoch 14: 100%|██████████| 30/30 [00:00<00:00, 99.96it/s, loss=0.1353]\n"
          ]
        },
        {
          "output_type": "stream",
          "name": "stdout",
          "text": [
            "validation loss=1.0859\n"
          ]
        },
        {
          "output_type": "stream",
          "name": "stderr",
          "text": [
            "epoch 15: 100%|██████████| 30/30 [00:00<00:00, 92.71it/s, loss=0.1489]\n"
          ]
        },
        {
          "output_type": "stream",
          "name": "stdout",
          "text": [
            "validation loss=1.0996\n"
          ]
        },
        {
          "output_type": "stream",
          "name": "stderr",
          "text": [
            "epoch 16: 100%|██████████| 30/30 [00:00<00:00, 98.95it/s, loss=0.1250] \n"
          ]
        },
        {
          "output_type": "stream",
          "name": "stdout",
          "text": [
            "validation loss=1.1077\n"
          ]
        },
        {
          "output_type": "stream",
          "name": "stderr",
          "text": [
            "epoch 17: 100%|██████████| 30/30 [00:00<00:00, 96.78it/s, loss=0.1327]\n"
          ]
        },
        {
          "output_type": "stream",
          "name": "stdout",
          "text": [
            "validation loss=1.0750\n"
          ]
        },
        {
          "output_type": "stream",
          "name": "stderr",
          "text": [
            "epoch 18: 100%|██████████| 30/30 [00:00<00:00, 92.43it/s, loss=0.1276]\n"
          ]
        },
        {
          "output_type": "stream",
          "name": "stdout",
          "text": [
            "validation loss=1.0614\n"
          ]
        },
        {
          "output_type": "stream",
          "name": "stderr",
          "text": [
            "epoch 19: 100%|██████████| 30/30 [00:00<00:00, 100.63it/s, loss=0.1188]\n"
          ]
        },
        {
          "output_type": "stream",
          "name": "stdout",
          "text": [
            "validation loss=1.0708\n"
          ]
        },
        {
          "output_type": "stream",
          "name": "stderr",
          "text": [
            "epoch 20: 100%|██████████| 30/30 [00:00<00:00, 102.77it/s, loss=0.1402]\n"
          ]
        },
        {
          "output_type": "stream",
          "name": "stdout",
          "text": [
            "validation loss=1.0665\n"
          ]
        },
        {
          "output_type": "stream",
          "name": "stderr",
          "text": [
            "epoch 21: 100%|██████████| 30/30 [00:00<00:00, 91.60it/s, loss=0.1370]\n"
          ]
        },
        {
          "output_type": "stream",
          "name": "stdout",
          "text": [
            "validation loss=1.1035\n"
          ]
        },
        {
          "output_type": "stream",
          "name": "stderr",
          "text": [
            "epoch 22: 100%|██████████| 30/30 [00:00<00:00, 100.33it/s, loss=0.1253]\n"
          ]
        },
        {
          "output_type": "stream",
          "name": "stdout",
          "text": [
            "validation loss=1.0882\n"
          ]
        },
        {
          "output_type": "stream",
          "name": "stderr",
          "text": [
            "epoch 23: 100%|██████████| 30/30 [00:00<00:00, 94.79it/s, loss=0.1326]\n"
          ]
        },
        {
          "output_type": "stream",
          "name": "stdout",
          "text": [
            "validation loss=1.1141\n"
          ]
        },
        {
          "output_type": "stream",
          "name": "stderr",
          "text": [
            "epoch 24: 100%|██████████| 30/30 [00:00<00:00, 100.36it/s, loss=0.1288]\n"
          ]
        },
        {
          "output_type": "stream",
          "name": "stdout",
          "text": [
            "validation loss=1.0812\n"
          ]
        },
        {
          "output_type": "stream",
          "name": "stderr",
          "text": [
            "epoch 25: 100%|██████████| 30/30 [00:00<00:00, 92.62it/s, loss=0.1254]\n"
          ]
        },
        {
          "output_type": "stream",
          "name": "stdout",
          "text": [
            "validation loss=1.0897\n"
          ]
        },
        {
          "output_type": "stream",
          "name": "stderr",
          "text": [
            "epoch 26: 100%|██████████| 30/30 [00:00<00:00, 94.47it/s, loss=0.1401]\n"
          ]
        },
        {
          "output_type": "stream",
          "name": "stdout",
          "text": [
            "validation loss=1.0752\n"
          ]
        },
        {
          "output_type": "stream",
          "name": "stderr",
          "text": [
            "epoch 27: 100%|██████████| 30/30 [00:00<00:00, 103.68it/s, loss=0.1210]\n"
          ]
        },
        {
          "output_type": "stream",
          "name": "stdout",
          "text": [
            "validation loss=1.1117\n"
          ]
        },
        {
          "output_type": "stream",
          "name": "stderr",
          "text": [
            "epoch 28: 100%|██████████| 30/30 [00:00<00:00, 101.30it/s, loss=0.1295]\n"
          ]
        },
        {
          "output_type": "stream",
          "name": "stdout",
          "text": [
            "validation loss=1.0969\n"
          ]
        },
        {
          "output_type": "stream",
          "name": "stderr",
          "text": [
            "epoch 29: 100%|██████████| 30/30 [00:00<00:00, 97.22it/s, loss=0.1304]\n"
          ]
        },
        {
          "output_type": "stream",
          "name": "stdout",
          "text": [
            "validation loss=1.0976\n"
          ]
        },
        {
          "output_type": "stream",
          "name": "stderr",
          "text": [
            "epoch 30: 100%|██████████| 30/30 [00:00<00:00, 98.09it/s, loss=0.1191]\n"
          ]
        },
        {
          "output_type": "stream",
          "name": "stdout",
          "text": [
            "validation loss=1.1190\n"
          ]
        },
        {
          "output_type": "stream",
          "name": "stderr",
          "text": [
            "epoch 31: 100%|██████████| 30/30 [00:00<00:00, 91.73it/s, loss=0.1418]\n"
          ]
        },
        {
          "output_type": "stream",
          "name": "stdout",
          "text": [
            "validation loss=1.1225\n"
          ]
        },
        {
          "output_type": "stream",
          "name": "stderr",
          "text": [
            "epoch 32: 100%|██████████| 30/30 [00:00<00:00, 96.87it/s, loss=0.1121]\n"
          ]
        },
        {
          "output_type": "stream",
          "name": "stdout",
          "text": [
            "validation loss=1.1070\n"
          ]
        },
        {
          "output_type": "stream",
          "name": "stderr",
          "text": [
            "epoch 33: 100%|██████████| 30/30 [00:00<00:00, 93.52it/s, loss=0.1338]\n"
          ]
        },
        {
          "output_type": "stream",
          "name": "stdout",
          "text": [
            "validation loss=1.0748\n"
          ]
        },
        {
          "output_type": "stream",
          "name": "stderr",
          "text": [
            "epoch 34: 100%|██████████| 30/30 [00:00<00:00, 100.47it/s, loss=0.1319]\n"
          ]
        },
        {
          "output_type": "stream",
          "name": "stdout",
          "text": [
            "validation loss=1.0767\n"
          ]
        },
        {
          "output_type": "stream",
          "name": "stderr",
          "text": [
            "epoch 35: 100%|██████████| 30/30 [00:00<00:00, 92.53it/s, loss=0.1227]\n"
          ]
        },
        {
          "output_type": "stream",
          "name": "stdout",
          "text": [
            "validation loss=1.1098\n"
          ]
        },
        {
          "output_type": "stream",
          "name": "stderr",
          "text": [
            "epoch 36: 100%|██████████| 30/30 [00:00<00:00, 98.75it/s, loss=0.1189]\n"
          ]
        },
        {
          "output_type": "stream",
          "name": "stdout",
          "text": [
            "validation loss=1.1171\n"
          ]
        },
        {
          "output_type": "stream",
          "name": "stderr",
          "text": [
            "epoch 37: 100%|██████████| 30/30 [00:00<00:00, 97.57it/s, loss=0.1371]\n"
          ]
        },
        {
          "output_type": "stream",
          "name": "stdout",
          "text": [
            "validation loss=1.1039\n"
          ]
        },
        {
          "output_type": "stream",
          "name": "stderr",
          "text": [
            "epoch 38: 100%|██████████| 30/30 [00:00<00:00, 97.58it/s, loss=0.1302]\n"
          ]
        },
        {
          "output_type": "stream",
          "name": "stdout",
          "text": [
            "validation loss=1.1546\n"
          ]
        },
        {
          "output_type": "stream",
          "name": "stderr",
          "text": [
            "epoch 39: 100%|██████████| 30/30 [00:00<00:00, 95.67it/s, loss=0.1151]\n"
          ]
        },
        {
          "output_type": "stream",
          "name": "stdout",
          "text": [
            "validation loss=1.1118\n"
          ]
        },
        {
          "output_type": "stream",
          "name": "stderr",
          "text": [
            "epoch 40: 100%|██████████| 30/30 [00:00<00:00, 96.70it/s, loss=0.1330]\n"
          ]
        },
        {
          "output_type": "stream",
          "name": "stdout",
          "text": [
            "validation loss=1.1069\n"
          ]
        },
        {
          "output_type": "stream",
          "name": "stderr",
          "text": [
            "epoch 41: 100%|██████████| 30/30 [00:00<00:00, 96.88it/s, loss=0.1454]\n"
          ]
        },
        {
          "output_type": "stream",
          "name": "stdout",
          "text": [
            "validation loss=1.1675\n"
          ]
        },
        {
          "output_type": "stream",
          "name": "stderr",
          "text": [
            "epoch 42: 100%|██████████| 30/30 [00:00<00:00, 93.16it/s, loss=0.1257]\n"
          ]
        },
        {
          "output_type": "stream",
          "name": "stdout",
          "text": [
            "validation loss=1.1630\n"
          ]
        },
        {
          "output_type": "stream",
          "name": "stderr",
          "text": [
            "epoch 43: 100%|██████████| 30/30 [00:00<00:00, 102.78it/s, loss=0.1314]\n"
          ]
        },
        {
          "output_type": "stream",
          "name": "stdout",
          "text": [
            "validation loss=1.1374\n"
          ]
        },
        {
          "output_type": "stream",
          "name": "stderr",
          "text": [
            "epoch 44: 100%|██████████| 30/30 [00:00<00:00, 99.47it/s, loss=0.1282]\n"
          ]
        },
        {
          "output_type": "stream",
          "name": "stdout",
          "text": [
            "validation loss=1.1168\n"
          ]
        },
        {
          "output_type": "stream",
          "name": "stderr",
          "text": [
            "epoch 45: 100%|██████████| 30/30 [00:00<00:00, 91.82it/s, loss=0.1260]\n"
          ]
        },
        {
          "output_type": "stream",
          "name": "stdout",
          "text": [
            "validation loss=1.1257\n"
          ]
        },
        {
          "output_type": "stream",
          "name": "stderr",
          "text": [
            "epoch 46: 100%|██████████| 30/30 [00:00<00:00, 89.83it/s, loss=0.1448]\n"
          ]
        },
        {
          "output_type": "stream",
          "name": "stdout",
          "text": [
            "validation loss=1.1934\n"
          ]
        },
        {
          "output_type": "stream",
          "name": "stderr",
          "text": [
            "epoch 47: 100%|██████████| 30/30 [00:00<00:00, 100.36it/s, loss=0.1191]\n"
          ]
        },
        {
          "output_type": "stream",
          "name": "stdout",
          "text": [
            "validation loss=1.1301\n"
          ]
        },
        {
          "output_type": "stream",
          "name": "stderr",
          "text": [
            "epoch 48: 100%|██████████| 30/30 [00:00<00:00, 100.23it/s, loss=0.1291]\n"
          ]
        },
        {
          "output_type": "stream",
          "name": "stdout",
          "text": [
            "validation loss=1.1628\n"
          ]
        },
        {
          "output_type": "stream",
          "name": "stderr",
          "text": [
            "epoch 49: 100%|██████████| 30/30 [00:00<00:00, 103.25it/s, loss=0.1223]\n"
          ]
        },
        {
          "output_type": "stream",
          "name": "stdout",
          "text": [
            "validation loss=1.1313\n"
          ]
        },
        {
          "output_type": "stream",
          "name": "stderr",
          "text": [
            "epoch 50: 100%|██████████| 30/30 [00:00<00:00, 100.66it/s, loss=0.1272]\n"
          ]
        },
        {
          "output_type": "stream",
          "name": "stdout",
          "text": [
            "validation loss=1.1406\n"
          ]
        },
        {
          "output_type": "stream",
          "name": "stderr",
          "text": [
            "epoch 51: 100%|██████████| 30/30 [00:00<00:00, 90.99it/s, loss=0.1260]\n"
          ]
        },
        {
          "output_type": "stream",
          "name": "stdout",
          "text": [
            "validation loss=1.1372\n"
          ]
        },
        {
          "output_type": "stream",
          "name": "stderr",
          "text": [
            "epoch 52: 100%|██████████| 30/30 [00:00<00:00, 93.44it/s, loss=0.1275]\n"
          ]
        },
        {
          "output_type": "stream",
          "name": "stdout",
          "text": [
            "validation loss=1.1658\n"
          ]
        },
        {
          "output_type": "stream",
          "name": "stderr",
          "text": [
            "epoch 53: 100%|██████████| 30/30 [00:00<00:00, 95.15it/s, loss=0.1216]\n"
          ]
        },
        {
          "output_type": "stream",
          "name": "stdout",
          "text": [
            "validation loss=1.1665\n"
          ]
        },
        {
          "output_type": "stream",
          "name": "stderr",
          "text": [
            "epoch 54: 100%|██████████| 30/30 [00:00<00:00, 95.73it/s, loss=0.1164]\n"
          ]
        },
        {
          "output_type": "stream",
          "name": "stdout",
          "text": [
            "validation loss=1.1518\n"
          ]
        },
        {
          "output_type": "stream",
          "name": "stderr",
          "text": [
            "epoch 55: 100%|██████████| 30/30 [00:00<00:00, 96.68it/s, loss=0.1093] \n"
          ]
        },
        {
          "output_type": "stream",
          "name": "stdout",
          "text": [
            "validation loss=1.1930\n"
          ]
        },
        {
          "output_type": "stream",
          "name": "stderr",
          "text": [
            "epoch 56: 100%|██████████| 30/30 [00:00<00:00, 98.91it/s, loss=0.1404] \n"
          ]
        },
        {
          "output_type": "stream",
          "name": "stdout",
          "text": [
            "validation loss=1.1636\n"
          ]
        },
        {
          "output_type": "stream",
          "name": "stderr",
          "text": [
            "epoch 57: 100%|██████████| 30/30 [00:00<00:00, 98.31it/s, loss=0.1337]\n"
          ]
        },
        {
          "output_type": "stream",
          "name": "stdout",
          "text": [
            "validation loss=1.1291\n"
          ]
        },
        {
          "output_type": "stream",
          "name": "stderr",
          "text": [
            "epoch 58: 100%|██████████| 30/30 [00:00<00:00, 103.59it/s, loss=0.1306]\n"
          ]
        },
        {
          "output_type": "stream",
          "name": "stdout",
          "text": [
            "validation loss=1.1711\n"
          ]
        },
        {
          "output_type": "stream",
          "name": "stderr",
          "text": [
            "epoch 59: 100%|██████████| 30/30 [00:00<00:00, 94.68it/s, loss=0.1296]\n"
          ]
        },
        {
          "output_type": "stream",
          "name": "stdout",
          "text": [
            "validation loss=1.0930\n"
          ]
        },
        {
          "output_type": "stream",
          "name": "stderr",
          "text": [
            "epoch 60: 100%|██████████| 30/30 [00:00<00:00, 95.09it/s, loss=0.1208]\n"
          ]
        },
        {
          "output_type": "stream",
          "name": "stdout",
          "text": [
            "validation loss=1.1243\n"
          ]
        },
        {
          "output_type": "stream",
          "name": "stderr",
          "text": [
            "epoch 61: 100%|██████████| 30/30 [00:00<00:00, 101.75it/s, loss=0.1194]\n"
          ]
        },
        {
          "output_type": "stream",
          "name": "stdout",
          "text": [
            "validation loss=1.1314\n"
          ]
        },
        {
          "output_type": "stream",
          "name": "stderr",
          "text": [
            "epoch 62: 100%|██████████| 30/30 [00:00<00:00, 94.22it/s, loss=0.1296]\n"
          ]
        },
        {
          "output_type": "stream",
          "name": "stdout",
          "text": [
            "validation loss=1.0850\n"
          ]
        },
        {
          "output_type": "stream",
          "name": "stderr",
          "text": [
            "epoch 63: 100%|██████████| 30/30 [00:00<00:00, 95.47it/s, loss=0.1162]\n"
          ]
        },
        {
          "output_type": "stream",
          "name": "stdout",
          "text": [
            "validation loss=1.1009\n"
          ]
        },
        {
          "output_type": "stream",
          "name": "stderr",
          "text": [
            "epoch 64: 100%|██████████| 30/30 [00:00<00:00, 103.28it/s, loss=0.1186]\n"
          ]
        },
        {
          "output_type": "stream",
          "name": "stdout",
          "text": [
            "validation loss=1.1235\n"
          ]
        },
        {
          "output_type": "stream",
          "name": "stderr",
          "text": [
            "epoch 65: 100%|██████████| 30/30 [00:00<00:00, 96.13it/s, loss=0.1287]\n"
          ]
        },
        {
          "output_type": "stream",
          "name": "stdout",
          "text": [
            "validation loss=1.1215\n"
          ]
        },
        {
          "output_type": "stream",
          "name": "stderr",
          "text": [
            "epoch 66: 100%|██████████| 30/30 [00:00<00:00, 99.51it/s, loss=0.1150]\n"
          ]
        },
        {
          "output_type": "stream",
          "name": "stdout",
          "text": [
            "validation loss=1.1083\n"
          ]
        },
        {
          "output_type": "stream",
          "name": "stderr",
          "text": [
            "epoch 67: 100%|██████████| 30/30 [00:00<00:00, 90.20it/s, loss=0.1214]\n"
          ]
        },
        {
          "output_type": "stream",
          "name": "stdout",
          "text": [
            "validation loss=1.1081\n"
          ]
        },
        {
          "output_type": "stream",
          "name": "stderr",
          "text": [
            "epoch 68: 100%|██████████| 30/30 [00:00<00:00, 94.37it/s, loss=0.1292]\n"
          ]
        },
        {
          "output_type": "stream",
          "name": "stdout",
          "text": [
            "validation loss=1.1043\n"
          ]
        },
        {
          "output_type": "stream",
          "name": "stderr",
          "text": [
            "epoch 69: 100%|██████████| 30/30 [00:00<00:00, 85.92it/s, loss=0.1161]\n"
          ]
        },
        {
          "output_type": "stream",
          "name": "stdout",
          "text": [
            "validation loss=1.0987\n"
          ]
        },
        {
          "output_type": "stream",
          "name": "stderr",
          "text": [
            "epoch 70: 100%|██████████| 30/30 [00:00<00:00, 93.21it/s, loss=0.1254]\n"
          ]
        },
        {
          "output_type": "stream",
          "name": "stdout",
          "text": [
            "validation loss=1.0979\n"
          ]
        },
        {
          "output_type": "stream",
          "name": "stderr",
          "text": [
            "epoch 71: 100%|██████████| 30/30 [00:00<00:00, 102.74it/s, loss=0.1206]\n"
          ]
        },
        {
          "output_type": "stream",
          "name": "stdout",
          "text": [
            "validation loss=1.1041\n"
          ]
        },
        {
          "output_type": "stream",
          "name": "stderr",
          "text": [
            "epoch 72: 100%|██████████| 30/30 [00:00<00:00, 100.61it/s, loss=0.1226]\n"
          ]
        },
        {
          "output_type": "stream",
          "name": "stdout",
          "text": [
            "validation loss=1.0944\n"
          ]
        },
        {
          "output_type": "stream",
          "name": "stderr",
          "text": [
            "epoch 73: 100%|██████████| 30/30 [00:00<00:00, 102.90it/s, loss=0.1272]\n"
          ]
        },
        {
          "output_type": "stream",
          "name": "stdout",
          "text": [
            "validation loss=1.0635\n"
          ]
        },
        {
          "output_type": "stream",
          "name": "stderr",
          "text": [
            "epoch 74: 100%|██████████| 30/30 [00:00<00:00, 97.18it/s, loss=0.1132]\n"
          ]
        },
        {
          "output_type": "stream",
          "name": "stdout",
          "text": [
            "validation loss=1.0837\n"
          ]
        },
        {
          "output_type": "stream",
          "name": "stderr",
          "text": [
            "epoch 75: 100%|██████████| 30/30 [00:00<00:00, 88.47it/s, loss=0.1335]\n"
          ]
        },
        {
          "output_type": "stream",
          "name": "stdout",
          "text": [
            "validation loss=1.0935\n"
          ]
        },
        {
          "output_type": "stream",
          "name": "stderr",
          "text": [
            "epoch 76: 100%|██████████| 30/30 [00:00<00:00, 84.91it/s, loss=0.1289]\n"
          ]
        },
        {
          "output_type": "stream",
          "name": "stdout",
          "text": [
            "validation loss=1.1030\n"
          ]
        },
        {
          "output_type": "stream",
          "name": "stderr",
          "text": [
            "epoch 77: 100%|██████████| 30/30 [00:00<00:00, 103.75it/s, loss=0.1294]\n"
          ]
        },
        {
          "output_type": "stream",
          "name": "stdout",
          "text": [
            "validation loss=1.0904\n"
          ]
        },
        {
          "output_type": "stream",
          "name": "stderr",
          "text": [
            "epoch 78: 100%|██████████| 30/30 [00:00<00:00, 94.45it/s, loss=0.1283]\n"
          ]
        },
        {
          "output_type": "stream",
          "name": "stdout",
          "text": [
            "validation loss=1.0752\n"
          ]
        },
        {
          "output_type": "stream",
          "name": "stderr",
          "text": [
            "epoch 79: 100%|██████████| 30/30 [00:00<00:00, 94.50it/s, loss=0.1295]\n"
          ]
        },
        {
          "output_type": "stream",
          "name": "stdout",
          "text": [
            "validation loss=1.0553\n"
          ]
        },
        {
          "output_type": "stream",
          "name": "stderr",
          "text": [
            "epoch 80: 100%|██████████| 30/30 [00:00<00:00, 95.30it/s, loss=0.1258]\n"
          ]
        },
        {
          "output_type": "stream",
          "name": "stdout",
          "text": [
            "validation loss=1.0828\n"
          ]
        },
        {
          "output_type": "stream",
          "name": "stderr",
          "text": [
            "epoch 81: 100%|██████████| 30/30 [00:00<00:00, 91.07it/s, loss=0.1279]\n"
          ]
        },
        {
          "output_type": "stream",
          "name": "stdout",
          "text": [
            "validation loss=1.0785\n"
          ]
        },
        {
          "output_type": "stream",
          "name": "stderr",
          "text": [
            "epoch 82: 100%|██████████| 30/30 [00:00<00:00, 95.63it/s, loss=0.1233]\n"
          ]
        },
        {
          "output_type": "stream",
          "name": "stdout",
          "text": [
            "validation loss=1.0931\n"
          ]
        },
        {
          "output_type": "stream",
          "name": "stderr",
          "text": [
            "epoch 83: 100%|██████████| 30/30 [00:00<00:00, 95.49it/s, loss=0.1125]\n"
          ]
        },
        {
          "output_type": "stream",
          "name": "stdout",
          "text": [
            "validation loss=1.1502\n"
          ]
        },
        {
          "output_type": "stream",
          "name": "stderr",
          "text": [
            "epoch 84: 100%|██████████| 30/30 [00:00<00:00, 91.51it/s, loss=0.1217]\n"
          ]
        },
        {
          "output_type": "stream",
          "name": "stdout",
          "text": [
            "validation loss=1.1169\n"
          ]
        },
        {
          "output_type": "stream",
          "name": "stderr",
          "text": [
            "epoch 85: 100%|██████████| 30/30 [00:00<00:00, 93.37it/s, loss=0.1477]\n"
          ]
        },
        {
          "output_type": "stream",
          "name": "stdout",
          "text": [
            "validation loss=1.0899\n"
          ]
        },
        {
          "output_type": "stream",
          "name": "stderr",
          "text": [
            "epoch 86: 100%|██████████| 30/30 [00:00<00:00, 93.08it/s, loss=0.1057]\n"
          ]
        },
        {
          "output_type": "stream",
          "name": "stdout",
          "text": [
            "validation loss=1.0920\n"
          ]
        },
        {
          "output_type": "stream",
          "name": "stderr",
          "text": [
            "epoch 87: 100%|██████████| 30/30 [00:00<00:00, 92.05it/s, loss=0.1165]\n"
          ]
        },
        {
          "output_type": "stream",
          "name": "stdout",
          "text": [
            "validation loss=1.1054\n"
          ]
        },
        {
          "output_type": "stream",
          "name": "stderr",
          "text": [
            "epoch 88: 100%|██████████| 30/30 [00:00<00:00, 95.15it/s, loss=0.1336]\n"
          ]
        },
        {
          "output_type": "stream",
          "name": "stdout",
          "text": [
            "validation loss=1.1130\n"
          ]
        },
        {
          "output_type": "stream",
          "name": "stderr",
          "text": [
            "epoch 89: 100%|██████████| 30/30 [00:00<00:00, 87.76it/s, loss=0.1242]\n"
          ]
        },
        {
          "output_type": "stream",
          "name": "stdout",
          "text": [
            "validation loss=1.1064\n"
          ]
        },
        {
          "output_type": "stream",
          "name": "stderr",
          "text": [
            "epoch 90: 100%|██████████| 30/30 [00:00<00:00, 85.71it/s, loss=0.1220]\n"
          ]
        },
        {
          "output_type": "stream",
          "name": "stdout",
          "text": [
            "validation loss=1.0641\n"
          ]
        },
        {
          "output_type": "stream",
          "name": "stderr",
          "text": [
            "epoch 91: 100%|██████████| 30/30 [00:00<00:00, 87.55it/s, loss=0.1174]\n"
          ]
        },
        {
          "output_type": "stream",
          "name": "stdout",
          "text": [
            "validation loss=1.0781\n"
          ]
        },
        {
          "output_type": "stream",
          "name": "stderr",
          "text": [
            "epoch 92: 100%|██████████| 30/30 [00:00<00:00, 87.51it/s, loss=0.1409]\n"
          ]
        },
        {
          "output_type": "stream",
          "name": "stdout",
          "text": [
            "validation loss=1.0804\n"
          ]
        },
        {
          "output_type": "stream",
          "name": "stderr",
          "text": [
            "epoch 93: 100%|██████████| 30/30 [00:00<00:00, 92.24it/s, loss=0.1242]\n"
          ]
        },
        {
          "output_type": "stream",
          "name": "stdout",
          "text": [
            "validation loss=1.0738\n"
          ]
        },
        {
          "output_type": "stream",
          "name": "stderr",
          "text": [
            "epoch 94: 100%|██████████| 30/30 [00:00<00:00, 90.34it/s, loss=0.1128]\n"
          ]
        },
        {
          "output_type": "stream",
          "name": "stdout",
          "text": [
            "validation loss=1.1022\n"
          ]
        },
        {
          "output_type": "stream",
          "name": "stderr",
          "text": [
            "epoch 95: 100%|██████████| 30/30 [00:00<00:00, 85.40it/s, loss=0.1185]\n"
          ]
        },
        {
          "output_type": "stream",
          "name": "stdout",
          "text": [
            "validation loss=1.1024\n"
          ]
        },
        {
          "output_type": "stream",
          "name": "stderr",
          "text": [
            "epoch 96: 100%|██████████| 30/30 [00:00<00:00, 84.16it/s, loss=0.1278]\n"
          ]
        },
        {
          "output_type": "stream",
          "name": "stdout",
          "text": [
            "validation loss=1.1101\n"
          ]
        },
        {
          "output_type": "stream",
          "name": "stderr",
          "text": [
            "epoch 97: 100%|██████████| 30/30 [00:00<00:00, 90.00it/s, loss=0.1159]\n"
          ]
        },
        {
          "output_type": "stream",
          "name": "stdout",
          "text": [
            "validation loss=1.1147\n"
          ]
        },
        {
          "output_type": "stream",
          "name": "stderr",
          "text": [
            "epoch 98: 100%|██████████| 30/30 [00:00<00:00, 85.90it/s, loss=0.1215]\n"
          ]
        },
        {
          "output_type": "stream",
          "name": "stdout",
          "text": [
            "validation loss=1.1210\n"
          ]
        },
        {
          "output_type": "stream",
          "name": "stderr",
          "text": [
            "epoch 99: 100%|██████████| 30/30 [00:00<00:00, 89.65it/s, loss=0.1194]\n"
          ]
        },
        {
          "output_type": "stream",
          "name": "stdout",
          "text": [
            "validation loss=1.1194\n"
          ]
        },
        {
          "output_type": "stream",
          "name": "stderr",
          "text": [
            "epoch 100: 100%|██████████| 30/30 [00:00<00:00, 88.32it/s, loss=0.1186]\n"
          ]
        },
        {
          "output_type": "stream",
          "name": "stdout",
          "text": [
            "validation loss=1.1273\n",
            "success!\n"
          ]
        }
      ]
    },
    {
      "cell_type": "code",
      "metadata": {
        "colab": {
          "base_uri": "https://localhost:8080/",
          "height": 265
        },
        "id": "gQ6LDKH8BP0C",
        "outputId": "d4415858-8ace-4431-b69d-8d2476e72bba"
      },
      "source": [
        "# plot validation curve\n",
        "history[['train_loss', 'val_loss']].plot();"
      ],
      "execution_count": 63,
      "outputs": [
        {
          "output_type": "display_data",
          "data": {
            "image/png": "[encoded data removed]",
            "text/plain": [
              "<Figure size 432x288 with 1 Axes>"
            ]
          },
          "metadata": {
            "needs_background": "light"
          }
        }
      ]
    },
    {
      "cell_type": "code",
      "metadata": {
        "colab": {
          "base_uri": "https://localhost:8080/"
        },
        "id": "ygY-MoEYGy9U",
        "outputId": "f08a5c87-da87-46ee-80fe-2f4f2b3c6406"
      },
      "source": [
        "for i in range(100):\n",
        "  if history['val_loss'].iloc[i] - history['train_loss'].iloc[i] > 1.0:\n",
        "    print( i)"
      ],
      "execution_count": 64,
      "outputs": [
        {
          "output_type": "stream",
          "name": "stdout",
          "text": [
            "6\n",
            "37\n",
            "40\n",
            "41\n",
            "42\n",
            "45\n",
            "46\n",
            "47\n",
            "48\n",
            "49\n",
            "50\n",
            "51\n",
            "52\n",
            "53\n",
            "54\n",
            "55\n",
            "57\n",
            "59\n",
            "60\n",
            "63\n",
            "82\n",
            "98\n",
            "99\n"
          ]
        }
      ]
    },
    {
      "cell_type": "markdown",
      "metadata": {
        "id": "wpHueWx7MaqH"
      },
      "source": [
        "So we can make conclusion that overfitting appears in a lot of cases in this example\n"
      ]
    },
    {
      "cell_type": "code",
      "metadata": {
        "id": "ChD5snpmNUOQ"
      },
      "source": [
        ""
      ],
      "execution_count": null,
      "outputs": []
    },
    {
      "cell_type": "markdown",
      "metadata": {
        "id": "4cUWgDPvM9zj"
      },
      "source": [
        "###Task 3 (2 points)\n",
        "Beat the baseline\n",
        "You can change model architecture and hyperparams as you like"
      ]
    },
    {
      "cell_type": "code",
      "metadata": {
        "id": "3aJXuq6fNAXo"
      },
      "source": [
        "# TOOD: select hyperparams and model architecture\n",
        "# TODO: create loaders\n",
        "# TODO: create model\n",
        "# TODO: train model"
      ],
      "execution_count": null,
      "outputs": []
    },
    {
      "cell_type": "code",
      "metadata": {
        "id": "G2wZAOXJTibE"
      },
      "source": [
        "# batch size is an important hyperparameter\n",
        "# make sure you have enough memory to contain batch data and the model\n",
        "batch_size = 64\n",
        "\n",
        "train_loader = DataLoader(TensorDataset(\n",
        "    torch.from_numpy(X_train).float(), \n",
        "    torch.from_numpy(y_train)),\n",
        "    batch_size=batch_size, \n",
        "    shuffle=True # it's important to shuffle train dataset every epoch\n",
        "    )\n",
        "\n",
        "val_loader = DataLoader(TensorDataset(\n",
        "    torch.from_numpy(X_val).float(), \n",
        "    torch.from_numpy(y_val)),\n",
        "    batch_size=batch_size, \n",
        "    shuffle=False \n",
        ")\n",
        "\n",
        "\n",
        "test_loader = DataLoader(TensorDataset(\n",
        "    torch.from_numpy(X_test).float(), \n",
        "    torch.from_numpy(y_test)),\n",
        "    batch_size=batch_size, \n",
        "    shuffle=False \n",
        ")"
      ],
      "execution_count": 65,
      "outputs": []
    },
    {
      "cell_type": "code",
      "metadata": {
        "colab": {
          "base_uri": "https://localhost:8080/"
        },
        "id": "QDIuPnKsTrMG",
        "outputId": "a26ca4a2-ef53-4bc8-9b00-e407eb51fa5c"
      },
      "source": [
        "history = train(model, train_loader, val_loader, n_epochs=100, \n",
        "      criterion=criterion, device=device, checkdir=checkdir)\n",
        "\n",
        "if history['val_loss'].iloc[-1] - history['train_loss'].iloc[-1] > 1.0:\n",
        "    print('success!')"
      ],
      "execution_count": 66,
      "outputs": [
        {
          "output_type": "stream",
          "name": "stderr",
          "text": [
            "epoch 1: 100%|██████████| 57/57 [00:00<00:00, 97.88it/s, loss=0.2400]\n"
          ]
        },
        {
          "output_type": "stream",
          "name": "stdout",
          "text": [
            "validation loss=1.2042\n"
          ]
        },
        {
          "output_type": "stream",
          "name": "stderr",
          "text": [
            "epoch 2: 100%|██████████| 57/57 [00:00<00:00, 100.67it/s, loss=0.2635]\n"
          ]
        },
        {
          "output_type": "stream",
          "name": "stdout",
          "text": [
            "validation loss=1.1975\n"
          ]
        },
        {
          "output_type": "stream",
          "name": "stderr",
          "text": [
            "epoch 3: 100%|██████████| 57/57 [00:00<00:00, 97.47it/s, loss=0.2717]\n"
          ]
        },
        {
          "output_type": "stream",
          "name": "stdout",
          "text": [
            "Early stopping\n"
          ]
        }
      ]
    },
    {
      "cell_type": "code",
      "metadata": {
        "colab": {
          "base_uri": "https://localhost:8080/"
        },
        "id": "TwU0oXt9NVWO",
        "outputId": "d9c1eeff-462c-4ac6-b44c-fdb81836d544"
      },
      "source": [
        "# load weights from best epoch\n",
        "\n",
        "idx = np.argmin(history['val_loss'])\n",
        "state_dict = torch.load(checkdir + '/epoch_%d_val_loss_%f' % (history.epoch.iloc[idx], history.val_loss.iloc[idx]))\n",
        "model.load_state_dict(state_dict)\n",
        "\n",
        "# test accuracy\n",
        "\n",
        "model.eval()\n",
        "test_acc = []\n",
        "\n",
        "with torch.no_grad():\n",
        "    for X, y in test_loader:\n",
        "        X = X.to(device)\n",
        "        y = y.to(device)\n",
        "\n",
        "        prediction = model(X)\n",
        "        prediction = prediction.argmax(dim=-1)\n",
        "        acc = (prediction ==  y.squeeze())\n",
        "        acc = acc.data.cpu().detach().numpy()\n",
        "        test_acc.extend( acc )\n",
        "\n",
        "test_acc = np.mean(test_acc)\n",
        "print('test accuracy', test_acc)\n",
        "if test_acc > 0.75:\n",
        "    print('success!')"
      ],
      "execution_count": 67,
      "outputs": [
        {
          "output_type": "stream",
          "name": "stdout",
          "text": [
            "test accuracy 0.709\n"
          ]
        }
      ]
    }
  ]
}